{
  "nbformat": 4,
  "nbformat_minor": 0,
  "metadata": {
    "colab": {
      "name": "Capstone project.ipynb",
      "provenance": [],
      "collapsed_sections": []
    },
    "kernelspec": {
      "name": "python3",
      "display_name": "Python 3"
    }
  },
  "cells": [
    {
      "cell_type": "markdown",
      "metadata": {
        "id": "Riww37Q6vsL3",
        "colab_type": "text"
      },
      "source": [
        "\n",
        "**Problem Overvew:**\n",
        "\n",
        "Within the company, there is a team that is responsible for defining product characteristics that will be built. For a blender category, for example, this team is responsible for setting the color, cup volume, cup material or even if you will have a filter to fruit juice.\n",
        "To define the characteristics of the different product categories, the team seeks to understand when the customer is interested in a product. This is where the Data Science team is called. Your\n",
        "main objective is to develop a model that can classify the product between \"interesting\" and \"not interesting\" given the attributes of it. In addition, it is desirable that you can also indicate which attributes and their values drive the customer's interest the most. \n",
        "\n",
        "**Problem Statement**\n",
        "\n",
        "Develop a model that can classify the product between \"interesting\" and \"not interesting\" given the attributes of it. In addition, it is desirable to indicate which attributes and their values most drive customer interest.\n",
        "\n",
        "1. Explore the database for insights that can guide you through the learning model creation phase.\n",
        "2. Create a machine learning model can classify the product between \"interesting\" and \"not interesting\" given the attributes of the product.\n",
        "3. Use metrics to analyze modeling results"
      ]
    },
    {
      "cell_type": "markdown",
      "metadata": {
        "id": "wsMXvGGm6hPy",
        "colab_type": "text"
      },
      "source": [
        "I load all the packages that will be used throughout the modeling."
      ]
    },
    {
      "cell_type": "code",
      "metadata": {
        "id": "MqGnbxwtKUCf",
        "colab_type": "code",
        "colab": {}
      },
      "source": [
        "import numpy as np\n",
        "import seaborn as sns\n",
        "import matplotlib.pyplot as plt\n",
        "import pandas as pd\n",
        "from sklearn.model_selection import RandomizedSearchCV\n",
        "from sklearn.model_selection import train_test_split\n",
        "from lightgbm import LGBMClassifier\n",
        "from sklearn.feature_selection import SelectFromModel\n",
        "from sklearn.metrics import roc_auc_score"
      ],
      "execution_count": 0,
      "outputs": []
    },
    {
      "cell_type": "markdown",
      "metadata": {
        "id": "mknNx_Yb6zlY",
        "colab_type": "text"
      },
      "source": [
        "The code below allows me to load the dataset file that will be used in the analysis."
      ]
    },
    {
      "cell_type": "code",
      "metadata": {
        "id": "fJKBLxQCMiYv",
        "colab_type": "code",
        "outputId": "fbcdf2c1-0e21-403e-e38d-35c0dd5d0fc5",
        "colab": {
          "resources": {
            "http://localhost:8080/nbextensions/google.colab/files.js": {
              "data": "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",
              "ok": true,
              "headers": [
                [
                  "content-type",
                  "application/javascript"
                ]
              ],
              "status": 200,
              "status_text": ""
            }
          },
          "base_uri": "https://localhost:8080/",
          "height": 75
        }
      },
      "source": [
        "# The code line allows you to attach the dataset file.\n",
        "from google.colab import files\n",
        "import io\n",
        "import pandas as pd\n",
        "uploaded = files.upload()\n"
      ],
      "execution_count": 33,
      "outputs": [
        {
          "output_type": "display_data",
          "data": {
            "text/html": [
              "\n",
              "     <input type=\"file\" id=\"files-fd03bb27-f10d-4f89-9598-11cb0eeaa15b\" name=\"files[]\" multiple disabled />\n",
              "     <output id=\"result-fd03bb27-f10d-4f89-9598-11cb0eeaa15b\">\n",
              "      Upload widget is only available when the cell has been executed in the\n",
              "      current browser session. Please rerun this cell to enable.\n",
              "      </output>\n",
              "      <script src=\"/nbextensions/google.colab/files.js\"></script> "
            ],
            "text/plain": [
              "<IPython.core.display.HTML object>"
            ]
          },
          "metadata": {
            "tags": []
          }
        },
        {
          "output_type": "stream",
          "text": [
            "Saving Project6_dataset.csv to Project6_dataset (2).csv\n"
          ],
          "name": "stdout"
        }
      ]
    },
    {
      "cell_type": "markdown",
      "metadata": {
        "id": "_i4pJOqRtTnb",
        "colab_type": "text"
      },
      "source": [
        "**Exploratory data analysis**\n",
        "\n",
        "The purpose of the exploratory analysis is:\n",
        "1) Describe a dataset; number of rows/columns,data types\n",
        "\n",
        "1) Identify missing data, discrepant data or inconsistencies in our data.\n",
        "\n",
        "2) At this stage, it is also possible to identify insights into our data."
      ]
    },
    {
      "cell_type": "markdown",
      "metadata": {
        "id": "1m_4xsOW9Fcv",
        "colab_type": "text"
      },
      "source": [
        "The following code line reads the dataset that was loaded and shows their properties."
      ]
    },
    {
      "cell_type": "code",
      "metadata": {
        "id": "1XnaQg-IgLGg",
        "colab_type": "code",
        "outputId": "4fe1fbc5-6810-4a82-c4f2-d1f3bb101e53",
        "colab": {
          "base_uri": "https://localhost:8080/",
          "height": 745
        }
      },
      "source": [
        "# read the dataset and show the dataset properties\n",
        "data = pd.read_csv(io.BytesIO(uploaded['Project6_dataset.csv']))\n",
        "print(\"Number of rows in data =\",data.shape[0])\n",
        "print(\"Number of columns in data =\",data.shape[1])\n",
        "print(\"Data type\", data.dtypes)\n",
        "data.head(8)"
      ],
      "execution_count": 70,
      "outputs": [
        {
          "output_type": "stream",
          "text": [
            "Number of rows in data = 180275\n",
            "Number of columns in data = 21\n",
            "Data type Item_id                       int64\n",
            "Height                      float64\n",
            "Capacity                    float64\n",
            "Type_of_product_material     object\n",
            "Color                        object\n",
            "Format_Type                  object\n",
            "Width                       float64\n",
            "Brand                        object\n",
            "Can_Be_Washed                object\n",
            "Can_Be_Used_Microwave        object\n",
            "Weight                      float64\n",
            "Depth                       float64\n",
            "Warranty_Time               float64\n",
            "Has_Iron                     object\n",
            "Has_Grid                     object\n",
            "Has_Lid                     float64\n",
            "Product_Type                 object\n",
            "Is_Wok                       object\n",
            "Session_id                  float64\n",
            "Price                       float64\n",
            "Interested                  float64\n",
            "dtype: object\n"
          ],
          "name": "stdout"
        },
        {
          "output_type": "execute_result",
          "data": {
            "text/html": [
              "<div>\n",
              "<style scoped>\n",
              "    .dataframe tbody tr th:only-of-type {\n",
              "        vertical-align: middle;\n",
              "    }\n",
              "\n",
              "    .dataframe tbody tr th {\n",
              "        vertical-align: top;\n",
              "    }\n",
              "\n",
              "    .dataframe thead th {\n",
              "        text-align: right;\n",
              "    }\n",
              "</style>\n",
              "<table border=\"1\" class=\"dataframe\">\n",
              "  <thead>\n",
              "    <tr style=\"text-align: right;\">\n",
              "      <th></th>\n",
              "      <th>Item_id</th>\n",
              "      <th>Height</th>\n",
              "      <th>Capacity</th>\n",
              "      <th>Type_of_product_material</th>\n",
              "      <th>Color</th>\n",
              "      <th>Format_Type</th>\n",
              "      <th>Width</th>\n",
              "      <th>Brand</th>\n",
              "      <th>Can_Be_Washed</th>\n",
              "      <th>Can_Be_Used_Microwave</th>\n",
              "      <th>Weight</th>\n",
              "      <th>Depth</th>\n",
              "      <th>Warranty_Time</th>\n",
              "      <th>Has_Iron</th>\n",
              "      <th>Has_Grid</th>\n",
              "      <th>Has_Lid</th>\n",
              "      <th>Product_Type</th>\n",
              "      <th>Is_Wok</th>\n",
              "      <th>Session_id</th>\n",
              "      <th>Price</th>\n",
              "      <th>Interested</th>\n",
              "    </tr>\n",
              "  </thead>\n",
              "  <tbody>\n",
              "    <tr>\n",
              "      <th>0</th>\n",
              "      <td>264220456</td>\n",
              "      <td>30.5</td>\n",
              "      <td>NaN</td>\n",
              "      <td>ALUMINIO</td>\n",
              "      <td>VINHO</td>\n",
              "      <td>NaN</td>\n",
              "      <td>14.0</td>\n",
              "      <td>LA CUISINE</td>\n",
              "      <td>NaN</td>\n",
              "      <td>NaN</td>\n",
              "      <td>NaN</td>\n",
              "      <td>50.0</td>\n",
              "      <td>3.0</td>\n",
              "      <td>NAO</td>\n",
              "      <td>SIM</td>\n",
              "      <td>1.0</td>\n",
              "      <td>PANELA</td>\n",
              "      <td>NAO</td>\n",
              "      <td>86.709770</td>\n",
              "      <td>199.990000</td>\n",
              "      <td>0.0</td>\n",
              "    </tr>\n",
              "    <tr>\n",
              "      <th>1</th>\n",
              "      <td>238630912</td>\n",
              "      <td>22.0</td>\n",
              "      <td>NaN</td>\n",
              "      <td>ALUMINIO</td>\n",
              "      <td>COLORIDO</td>\n",
              "      <td>NaN</td>\n",
              "      <td>24.0</td>\n",
              "      <td>TRAMONTINA</td>\n",
              "      <td>No</td>\n",
              "      <td>no</td>\n",
              "      <td>150.0</td>\n",
              "      <td>40.0</td>\n",
              "      <td>12.0</td>\n",
              "      <td>NAO</td>\n",
              "      <td>NAO</td>\n",
              "      <td>1.0</td>\n",
              "      <td>PIPOQUEIRA</td>\n",
              "      <td>NAO</td>\n",
              "      <td>73.156401</td>\n",
              "      <td>105.112581</td>\n",
              "      <td>0.0</td>\n",
              "    </tr>\n",
              "    <tr>\n",
              "      <th>2</th>\n",
              "      <td>218228122</td>\n",
              "      <td>24.0</td>\n",
              "      <td>NaN</td>\n",
              "      <td>INOX</td>\n",
              "      <td>INOX</td>\n",
              "      <td>NaN</td>\n",
              "      <td>20.0</td>\n",
              "      <td>LA CUISINE</td>\n",
              "      <td>Yes</td>\n",
              "      <td>no</td>\n",
              "      <td>190.0</td>\n",
              "      <td>20.0</td>\n",
              "      <td>3.0</td>\n",
              "      <td>NAO</td>\n",
              "      <td>NAO</td>\n",
              "      <td>1.0</td>\n",
              "      <td>ESPAGUETEIRA</td>\n",
              "      <td>NAO</td>\n",
              "      <td>952.331024</td>\n",
              "      <td>139.990000</td>\n",
              "      <td>0.0</td>\n",
              "    </tr>\n",
              "    <tr>\n",
              "      <th>3</th>\n",
              "      <td>253661510</td>\n",
              "      <td>49.5</td>\n",
              "      <td>6.0</td>\n",
              "      <td>ALUMINIO</td>\n",
              "      <td>VERMELHO</td>\n",
              "      <td>REDONDO</td>\n",
              "      <td>41.5</td>\n",
              "      <td>TRAMONTINA</td>\n",
              "      <td>Yes</td>\n",
              "      <td>NaN</td>\n",
              "      <td>120.0</td>\n",
              "      <td>47.0</td>\n",
              "      <td>NaN</td>\n",
              "      <td>NAO</td>\n",
              "      <td>NAO</td>\n",
              "      <td>1.0</td>\n",
              "      <td>PIPOQUEIRA</td>\n",
              "      <td>NAO</td>\n",
              "      <td>637.759106</td>\n",
              "      <td>103.293333</td>\n",
              "      <td>1.0</td>\n",
              "    </tr>\n",
              "    <tr>\n",
              "      <th>4</th>\n",
              "      <td>253661510</td>\n",
              "      <td>49.5</td>\n",
              "      <td>6.0</td>\n",
              "      <td>ALUMINIO</td>\n",
              "      <td>VERMELHO</td>\n",
              "      <td>REDONDO</td>\n",
              "      <td>41.5</td>\n",
              "      <td>TRAMONTINA</td>\n",
              "      <td>Yes</td>\n",
              "      <td>NaN</td>\n",
              "      <td>120.0</td>\n",
              "      <td>47.0</td>\n",
              "      <td>NaN</td>\n",
              "      <td>NAO</td>\n",
              "      <td>NAO</td>\n",
              "      <td>1.0</td>\n",
              "      <td>PIPOQUEIRA</td>\n",
              "      <td>NAO</td>\n",
              "      <td>478.531428</td>\n",
              "      <td>103.330242</td>\n",
              "      <td>0.0</td>\n",
              "    </tr>\n",
              "    <tr>\n",
              "      <th>5</th>\n",
              "      <td>264220456</td>\n",
              "      <td>30.5</td>\n",
              "      <td>NaN</td>\n",
              "      <td>ALUMINIO</td>\n",
              "      <td>VINHO</td>\n",
              "      <td>NaN</td>\n",
              "      <td>14.0</td>\n",
              "      <td>LA CUISINE</td>\n",
              "      <td>NaN</td>\n",
              "      <td>NaN</td>\n",
              "      <td>NaN</td>\n",
              "      <td>50.0</td>\n",
              "      <td>3.0</td>\n",
              "      <td>NAO</td>\n",
              "      <td>SIM</td>\n",
              "      <td>1.0</td>\n",
              "      <td>PANELA</td>\n",
              "      <td>NAO</td>\n",
              "      <td>914.936724</td>\n",
              "      <td>179.990000</td>\n",
              "      <td>0.0</td>\n",
              "    </tr>\n",
              "    <tr>\n",
              "      <th>6</th>\n",
              "      <td>254633548</td>\n",
              "      <td>30.5</td>\n",
              "      <td>NaN</td>\n",
              "      <td>ALUMINIO</td>\n",
              "      <td>AMARELO</td>\n",
              "      <td>REDONDO</td>\n",
              "      <td>14.0</td>\n",
              "      <td>LA CUISINE</td>\n",
              "      <td>NaN</td>\n",
              "      <td>NaN</td>\n",
              "      <td>NaN</td>\n",
              "      <td>50.0</td>\n",
              "      <td>3.0</td>\n",
              "      <td>NAO</td>\n",
              "      <td>SIM</td>\n",
              "      <td>1.0</td>\n",
              "      <td>PANELA</td>\n",
              "      <td>NAO</td>\n",
              "      <td>793.755940</td>\n",
              "      <td>199.990000</td>\n",
              "      <td>0.0</td>\n",
              "    </tr>\n",
              "    <tr>\n",
              "      <th>7</th>\n",
              "      <td>788804</td>\n",
              "      <td>NaN</td>\n",
              "      <td>0.1</td>\n",
              "      <td>INOX</td>\n",
              "      <td>INOX</td>\n",
              "      <td>NaN</td>\n",
              "      <td>NaN</td>\n",
              "      <td>TRAMONTINA</td>\n",
              "      <td>No</td>\n",
              "      <td>no</td>\n",
              "      <td>NaN</td>\n",
              "      <td>NaN</td>\n",
              "      <td>NaN</td>\n",
              "      <td>NAO</td>\n",
              "      <td>NAO</td>\n",
              "      <td>0.0</td>\n",
              "      <td>CREMEIRA</td>\n",
              "      <td>NAO</td>\n",
              "      <td>473.772238</td>\n",
              "      <td>64.840000</td>\n",
              "      <td>0.0</td>\n",
              "    </tr>\n",
              "  </tbody>\n",
              "</table>\n",
              "</div>"
            ],
            "text/plain": [
              "     Item_id  Height  Capacity  ...  Session_id       Price Interested\n",
              "0  264220456    30.5       NaN  ...   86.709770  199.990000        0.0\n",
              "1  238630912    22.0       NaN  ...   73.156401  105.112581        0.0\n",
              "2  218228122    24.0       NaN  ...  952.331024  139.990000        0.0\n",
              "3  253661510    49.5       6.0  ...  637.759106  103.293333        1.0\n",
              "4  253661510    49.5       6.0  ...  478.531428  103.330242        0.0\n",
              "5  264220456    30.5       NaN  ...  914.936724  179.990000        0.0\n",
              "6  254633548    30.5       NaN  ...  793.755940  199.990000        0.0\n",
              "7     788804     NaN       0.1  ...  473.772238   64.840000        0.0\n",
              "\n",
              "[8 rows x 21 columns]"
            ]
          },
          "metadata": {
            "tags": []
          },
          "execution_count": 70
        }
      ]
    },
    {
      "cell_type": "code",
      "metadata": {
        "id": "QdAZn-t3YdTz",
        "colab_type": "code",
        "colab": {
          "base_uri": "https://localhost:8080/",
          "height": 126
        },
        "outputId": "a5455cd8-04f8-48c8-ef8e-ad691eea493f"
      },
      "source": [
        "print(data.columns)"
      ],
      "execution_count": 35,
      "outputs": [
        {
          "output_type": "stream",
          "text": [
            "Index(['Item_id', 'Height', 'Capacity', 'Type_of_product_material', 'Color',\n",
            "       'Format_Type', 'Width', 'Brand', 'Can_Be_Washed',\n",
            "       'Can_Be_Used_Microwave', 'Weight', 'Depth', 'Warranty_Time', 'Has_Iron',\n",
            "       'Has_Grid', 'Has_Lid', 'Product_Type', 'Is_Wok', 'Session_id', 'Price',\n",
            "       'Interested'],\n",
            "      dtype='object')\n"
          ],
          "name": "stdout"
        }
      ]
    },
    {
      "cell_type": "markdown",
      "metadata": {
        "id": "NaB-Bdq_OL_J",
        "colab_type": "text"
      },
      "source": [
        "Since we have text type attributes, let's turn text into upper-case text, to avoid problems when we are turning categorical variables into dummies variable."
      ]
    },
    {
      "cell_type": "code",
      "metadata": {
        "id": "SMvVTKKWNtgD",
        "colab_type": "code",
        "colab": {}
      },
      "source": [
        "# The code below select columns that are not numeric attributes. \n",
        "# Next,  we convert text to all uppercase\n",
        "categorical_list = data.select_dtypes(exclude=[np.number]).columns.tolist()\n",
        "for col in categorical_list:\n",
        "  data[col] = data[col].str.upper()"
      ],
      "execution_count": 0,
      "outputs": []
    },
    {
      "cell_type": "markdown",
      "metadata": {
        "id": "_H6FEngwuG50",
        "colab_type": "text"
      },
      "source": [
        "In the bottom row, we can see the number of missing values per column. Filling missing values allows mitigating the effect of information loss. There are some techniques for treating missing values such as:\n",
        "\n",
        "1) If the number of missing values is insignificant, the values may be removed. 2) missing values can be replaced by the average of the values in that column. 3) Using interpolation methods to fill missing values. 4) The most frequent category value or creating a new category for the case of categorical data.\n",
        "\n"
      ]
    },
    {
      "cell_type": "markdown",
      "metadata": {
        "id": "deqkaiOn8yH_",
        "colab_type": "text"
      },
      "source": [
        "We can observe that of the 20 attributes of the dataset, 14 of them have missing values and among them 6 are categorical attributes."
      ]
    },
    {
      "cell_type": "code",
      "metadata": {
        "id": "ocao6q-utp2J",
        "colab_type": "code",
        "outputId": "68ff3681-945c-426b-ba43-9c23e8448dba",
        "colab": {
          "base_uri": "https://localhost:8080/",
          "height": 417
        }
      },
      "source": [
        "print(data.isnull().sum())"
      ],
      "execution_count": 71,
      "outputs": [
        {
          "output_type": "stream",
          "text": [
            "Item_id                          0\n",
            "Height                        9268\n",
            "Capacity                    103604\n",
            "Type_of_product_material     23297\n",
            "Color                        10024\n",
            "Format_Type                  90264\n",
            "Width                         9268\n",
            "Brand                          274\n",
            "Can_Be_Washed                76189\n",
            "Can_Be_Used_Microwave        93873\n",
            "Weight                       81751\n",
            "Depth                         9268\n",
            "Warranty_Time                57505\n",
            "Has_Iron                         0\n",
            "Has_Grid                         0\n",
            "Has_Lid                          0\n",
            "Product_Type                     0\n",
            "Is_Wok                           0\n",
            "Session_id                    2002\n",
            "Price                        13097\n",
            "Interested                       0\n",
            "dtype: int64\n"
          ],
          "name": "stdout"
        }
      ]
    },
    {
      "cell_type": "markdown",
      "metadata": {
        "id": "bOkcbEvFMkAJ",
        "colab_type": "text"
      },
      "source": [
        "**Visualization**"
      ]
    },
    {
      "cell_type": "markdown",
      "metadata": {
        "id": "aB6NZ9GUKDCE",
        "colab_type": "text"
      },
      "source": [
        "In the graphs below we can observe the interest of people considering the attributes of the object. The \"para_lava_louças\" attribute has 3 categories Yes, No, No. This indicates that there was a typo. We will replace the value NO with NO."
      ]
    },
    {
      "cell_type": "code",
      "metadata": {
        "id": "GylEF8byqVCc",
        "colab_type": "code",
        "outputId": "f4896666-272a-42e4-e657-fe1a2a372752",
        "colab": {
          "base_uri": "https://localhost:8080/",
          "height": 498
        }
      },
      "source": [
        "categorical_feature = ['Type_of_product_material','Format_Type', 'Can_Be_Washed',\n",
        "                      'Can_Be_Used_Microwave', 'Has_Grid']\n",
        "fig = plt.figure()\n",
        "fig.subplots_adjust(hspace=0.4, wspace=0.4)\n",
        "fig.set_size_inches(18, 8)\n",
        "for j in range(0, len(categorical_feature)):\n",
        "  ax = fig.add_subplot(3,2, j+1)\n",
        "  sns.countplot(x=categorical_feature[j], hue=\"Interested\", data=data, ax = ax)"
      ],
      "execution_count": 38,
      "outputs": [
        {
          "output_type": "display_data",
          "data": {
            "image/png": "[encoded data removed]",
            "text/plain": [
              "<Figure size 1296x576 with 5 Axes>"
            ]
          },
          "metadata": {
            "tags": []
          }
        }
      ]
    },
    {
      "cell_type": "code",
      "metadata": {
        "id": "otOqLh_-1tXa",
        "colab_type": "code",
        "colab": {}
      },
      "source": [
        "# In the code below were chosen the rows whose attribute value 'PARA_LAVA_LOUCAS' is equal to Nao and renamed to No \n",
        "index = data[data['Can_Be_Washed']=='NAO'].index.tolist()\n",
        "data.loc[index, 'Can_Be_Washed'] = 'NO'"
      ],
      "execution_count": 0,
      "outputs": []
    },
    {
      "cell_type": "markdown",
      "metadata": {
        "id": "07z8eTZhN6uO",
        "colab_type": "text"
      },
      "source": [
        "**Exploring and Understanding Missing Data**\n",
        "\n",
        "First we will begin by analyzing the columns with missing categorical data. To fill in such data we can obtain by two alternatives: 1) fill NULL data with the most frequent category. 2) Create a new category."
      ]
    },
    {
      "cell_type": "code",
      "metadata": {
        "id": "n4VO_Fs4Jrpt",
        "colab_type": "code",
        "colab": {}
      },
      "source": [
        "#In the code below all null values have been replaced by the most frequent class in each column.\n",
        "categ_feature_name = ['Type_of_product_material','Color', 'Format_Type', 'Brand', 'Can_Be_Washed', 'Can_Be_Used_Microwave']\n",
        "for column in categ_feature_name:\n",
        "  most_common = data[column].value_counts().index[0]\n",
        "  data[column] = data[column].replace(np.nan, most_common)"
      ],
      "execution_count": 0,
      "outputs": []
    },
    {
      "cell_type": "code",
      "metadata": {
        "id": "Em6g8tTYJslF",
        "colab_type": "code",
        "outputId": "3bc82c32-c24b-4ef6-fac7-80e9f0406ad7",
        "colab": {
          "base_uri": "https://localhost:8080/",
          "height": 308
        }
      },
      "source": [
        "data.describe()"
      ],
      "execution_count": 41,
      "outputs": [
        {
          "output_type": "execute_result",
          "data": {
            "text/html": [
              "<div>\n",
              "<style scoped>\n",
              "    .dataframe tbody tr th:only-of-type {\n",
              "        vertical-align: middle;\n",
              "    }\n",
              "\n",
              "    .dataframe tbody tr th {\n",
              "        vertical-align: top;\n",
              "    }\n",
              "\n",
              "    .dataframe thead th {\n",
              "        text-align: right;\n",
              "    }\n",
              "</style>\n",
              "<table border=\"1\" class=\"dataframe\">\n",
              "  <thead>\n",
              "    <tr style=\"text-align: right;\">\n",
              "      <th></th>\n",
              "      <th>Item_id</th>\n",
              "      <th>Height</th>\n",
              "      <th>Capacity</th>\n",
              "      <th>Width</th>\n",
              "      <th>Weight</th>\n",
              "      <th>Depth</th>\n",
              "      <th>Warranty_Time</th>\n",
              "      <th>Has_Lid</th>\n",
              "      <th>Session_id</th>\n",
              "      <th>Price</th>\n",
              "      <th>Interested</th>\n",
              "    </tr>\n",
              "  </thead>\n",
              "  <tbody>\n",
              "    <tr>\n",
              "      <th>count</th>\n",
              "      <td>1.802750e+05</td>\n",
              "      <td>171007.000000</td>\n",
              "      <td>76671.000000</td>\n",
              "      <td>171007.000000</td>\n",
              "      <td>98524.000000</td>\n",
              "      <td>171007.000000</td>\n",
              "      <td>122770.000000</td>\n",
              "      <td>180275.000000</td>\n",
              "      <td>178273.000000</td>\n",
              "      <td>167178.000000</td>\n",
              "      <td>180275.000000</td>\n",
              "    </tr>\n",
              "    <tr>\n",
              "      <th>mean</th>\n",
              "      <td>2.156229e+08</td>\n",
              "      <td>30.575636</td>\n",
              "      <td>4.234668</td>\n",
              "      <td>27.882157</td>\n",
              "      <td>311.259118</td>\n",
              "      <td>34.797386</td>\n",
              "      <td>13.870742</td>\n",
              "      <td>0.440704</td>\n",
              "      <td>499.757195</td>\n",
              "      <td>127.831019</td>\n",
              "      <td>0.086130</td>\n",
              "    </tr>\n",
              "    <tr>\n",
              "      <th>std</th>\n",
              "      <td>1.030257e+08</td>\n",
              "      <td>14.856403</td>\n",
              "      <td>1.699274</td>\n",
              "      <td>10.494943</td>\n",
              "      <td>1727.585999</td>\n",
              "      <td>15.179911</td>\n",
              "      <td>43.641581</td>\n",
              "      <td>0.496473</td>\n",
              "      <td>288.841689</td>\n",
              "      <td>137.298241</td>\n",
              "      <td>0.280556</td>\n",
              "    </tr>\n",
              "    <tr>\n",
              "      <th>min</th>\n",
              "      <td>2.939160e+05</td>\n",
              "      <td>2.000000</td>\n",
              "      <td>0.045000</td>\n",
              "      <td>4.500000</td>\n",
              "      <td>0.619000</td>\n",
              "      <td>2.500000</td>\n",
              "      <td>1.000000</td>\n",
              "      <td>0.000000</td>\n",
              "      <td>1.011194</td>\n",
              "      <td>0.550000</td>\n",
              "      <td>0.000000</td>\n",
              "    </tr>\n",
              "    <tr>\n",
              "      <th>25%</th>\n",
              "      <td>2.273688e+08</td>\n",
              "      <td>19.000000</td>\n",
              "      <td>3.100000</td>\n",
              "      <td>20.000000</td>\n",
              "      <td>120.000000</td>\n",
              "      <td>19.800000</td>\n",
              "      <td>3.000000</td>\n",
              "      <td>0.000000</td>\n",
              "      <td>249.343773</td>\n",
              "      <td>74.990000</td>\n",
              "      <td>0.000000</td>\n",
              "    </tr>\n",
              "    <tr>\n",
              "      <th>50%</th>\n",
              "      <td>2.485863e+08</td>\n",
              "      <td>30.500000</td>\n",
              "      <td>4.500000</td>\n",
              "      <td>27.800000</td>\n",
              "      <td>160.000000</td>\n",
              "      <td>38.500000</td>\n",
              "      <td>6.000000</td>\n",
              "      <td>0.000000</td>\n",
              "      <td>500.759182</td>\n",
              "      <td>104.482418</td>\n",
              "      <td>0.000000</td>\n",
              "    </tr>\n",
              "    <tr>\n",
              "      <th>75%</th>\n",
              "      <td>2.567376e+08</td>\n",
              "      <td>42.700000</td>\n",
              "      <td>6.000000</td>\n",
              "      <td>35.000000</td>\n",
              "      <td>190.000000</td>\n",
              "      <td>47.000000</td>\n",
              "      <td>12.000000</td>\n",
              "      <td>1.000000</td>\n",
              "      <td>749.204738</td>\n",
              "      <td>146.327727</td>\n",
              "      <td>0.000000</td>\n",
              "    </tr>\n",
              "    <tr>\n",
              "      <th>max</th>\n",
              "      <td>2.711264e+10</td>\n",
              "      <td>84.000000</td>\n",
              "      <td>11.000000</td>\n",
              "      <td>91.000000</td>\n",
              "      <td>44400.000000</td>\n",
              "      <td>148.000000</td>\n",
              "      <td>300.000000</td>\n",
              "      <td>1.000000</td>\n",
              "      <td>1000.984988</td>\n",
              "      <td>2274.990000</td>\n",
              "      <td>1.000000</td>\n",
              "    </tr>\n",
              "  </tbody>\n",
              "</table>\n",
              "</div>"
            ],
            "text/plain": [
              "            Item_id         Height  ...          Price     Interested\n",
              "count  1.802750e+05  171007.000000  ...  167178.000000  180275.000000\n",
              "mean   2.156229e+08      30.575636  ...     127.831019       0.086130\n",
              "std    1.030257e+08      14.856403  ...     137.298241       0.280556\n",
              "min    2.939160e+05       2.000000  ...       0.550000       0.000000\n",
              "25%    2.273688e+08      19.000000  ...      74.990000       0.000000\n",
              "50%    2.485863e+08      30.500000  ...     104.482418       0.000000\n",
              "75%    2.567376e+08      42.700000  ...     146.327727       0.000000\n",
              "max    2.711264e+10      84.000000  ...    2274.990000       1.000000\n",
              "\n",
              "[8 rows x 11 columns]"
            ]
          },
          "metadata": {
            "tags": []
          },
          "execution_count": 41
        }
      ]
    },
    {
      "cell_type": "markdown",
      "metadata": {
        "id": "euWsfHIcvM0J",
        "colab_type": "text"
      },
      "source": [
        "The plot below help to get a better sense of the distribution of our attributes with numerical values. With this information, we will know how to handle missing numeric attributes. For example in the case of the Has_lid attribute, we could not replace missing values with an average or by using an interpolation method as there are only two possible single values, either 0 or 10. Therefore this attribute will be filled with the most frequent value. Being the most frequent value 0.\n",
        "\n",
        "We can also observe the disproportion in the target class. There is a higher percentage of products whose attributes were not in people's interest."
      ]
    },
    {
      "cell_type": "code",
      "metadata": {
        "id": "MmzqIfwycxyE",
        "colab_type": "code",
        "outputId": "c9a6e3f7-545c-4df1-c5aa-23f7d4299f5b",
        "colab": {
          "base_uri": "https://localhost:8080/",
          "height": 498
        }
      },
      "source": [
        "fig = plt.figure()\n",
        "fig.subplots_adjust(hspace=0.4, wspace=0.4)\n",
        "fig.set_size_inches(14, 8)\n",
        "for index, variable in enumerate(['Height', 'Capacity', 'Width', 'Weight', \n",
        "                                  'Depth', \n",
        "                                  'Warranty_Time', 'Has_Lid', 'Price',\n",
        "                                   'Interested']):\n",
        "  ax = fig.add_subplot(3,3, index+1)\n",
        "  sns.distplot(data[variable].dropna(),ax = ax)"
      ],
      "execution_count": 43,
      "outputs": [
        {
          "output_type": "display_data",
          "data": {
            "image/png": "[encoded data removed]",
            "text/plain": [
              "<Figure size 1008x576 with 9 Axes>"
            ]
          },
          "metadata": {
            "tags": []
          }
        }
      ]
    },
    {
      "cell_type": "code",
      "metadata": {
        "id": "CdAEgDcuKK_Z",
        "colab_type": "code",
        "outputId": "eb7b51f9-9290-4306-ad9f-24eff69475b9",
        "colab": {
          "base_uri": "https://localhost:8080/",
          "height": 235
        }
      },
      "source": [
        "#was selected numeric attributes and was showed the object type for each \n",
        "#attribute\n",
        "numeric_features = data.select_dtypes(include=[np.number])\n",
        "numeric_features.dtypes"
      ],
      "execution_count": 44,
      "outputs": [
        {
          "output_type": "execute_result",
          "data": {
            "text/plain": [
              "Item_id            int64\n",
              "Height           float64\n",
              "Capacity         float64\n",
              "Width            float64\n",
              "Weight           float64\n",
              "Depth            float64\n",
              "Warranty_Time    float64\n",
              "Has_Lid          float64\n",
              "Session_id       float64\n",
              "Price            float64\n",
              "Interested       float64\n",
              "dtype: object"
            ]
          },
          "metadata": {
            "tags": []
          },
          "execution_count": 44
        }
      ]
    },
    {
      "cell_type": "markdown",
      "metadata": {
        "id": "TXZttgoMLomd",
        "colab_type": "text"
      },
      "source": [
        "Through the dataframe.corr () method it is possible to show the correlation between all numeric attributes of the dataset. We can see a correlation above 0.5 for the height, capacity and, width attributes"
      ]
    },
    {
      "cell_type": "code",
      "metadata": {
        "id": "oGVCTc1_K3RR",
        "colab_type": "code",
        "outputId": "d111eb77-8cde-489a-bacb-8044f9a63d9e",
        "colab": {
          "base_uri": "https://localhost:8080/",
          "height": 353
        }
      },
      "source": [
        "# The data set correlation matrix is displayed visually\n",
        "corr = data.corr(method='pearson')\n",
        "sns.heatmap(corr)"
      ],
      "execution_count": 45,
      "outputs": [
        {
          "output_type": "execute_result",
          "data": {
            "text/plain": [
              "<matplotlib.axes._subplots.AxesSubplot at 0x7f1764d9ae48>"
            ]
          },
          "metadata": {
            "tags": []
          },
          "execution_count": 45
        },
        {
          "output_type": "display_data",
          "data": {
            "image/png": "[encoded data removed]",
            "text/plain": [
              "<Figure size 432x288 with 2 Axes>"
            ]
          },
          "metadata": {
            "tags": []
          }
        }
      ]
    },
    {
      "cell_type": "code",
      "metadata": {
        "id": "xB5pDNsUNesB",
        "colab_type": "code",
        "outputId": "2025b16b-2699-4559-cd1c-f7009b9c18ba",
        "colab": {
          "base_uri": "https://localhost:8080/",
          "height": 188
        }
      },
      "source": [
        "# was selected non-numeric attributes and was showed their properties\n",
        "categoricals = data.select_dtypes(exclude=[np.number])\n",
        "categoricals.describe()"
      ],
      "execution_count": 46,
      "outputs": [
        {
          "output_type": "execute_result",
          "data": {
            "text/html": [
              "<div>\n",
              "<style scoped>\n",
              "    .dataframe tbody tr th:only-of-type {\n",
              "        vertical-align: middle;\n",
              "    }\n",
              "\n",
              "    .dataframe tbody tr th {\n",
              "        vertical-align: top;\n",
              "    }\n",
              "\n",
              "    .dataframe thead th {\n",
              "        text-align: right;\n",
              "    }\n",
              "</style>\n",
              "<table border=\"1\" class=\"dataframe\">\n",
              "  <thead>\n",
              "    <tr style=\"text-align: right;\">\n",
              "      <th></th>\n",
              "      <th>Type_of_product_material</th>\n",
              "      <th>Color</th>\n",
              "      <th>Format_Type</th>\n",
              "      <th>Brand</th>\n",
              "      <th>Can_Be_Washed</th>\n",
              "      <th>Can_Be_Used_Microwave</th>\n",
              "      <th>Has_Iron</th>\n",
              "      <th>Has_Grid</th>\n",
              "      <th>Product_Type</th>\n",
              "      <th>Is_Wok</th>\n",
              "    </tr>\n",
              "  </thead>\n",
              "  <tbody>\n",
              "    <tr>\n",
              "      <th>count</th>\n",
              "      <td>180275</td>\n",
              "      <td>180275</td>\n",
              "      <td>180275</td>\n",
              "      <td>180275</td>\n",
              "      <td>180275</td>\n",
              "      <td>180275</td>\n",
              "      <td>180275</td>\n",
              "      <td>180275</td>\n",
              "      <td>180275</td>\n",
              "      <td>180275</td>\n",
              "    </tr>\n",
              "    <tr>\n",
              "      <th>unique</th>\n",
              "      <td>5</td>\n",
              "      <td>24</td>\n",
              "      <td>5</td>\n",
              "      <td>35</td>\n",
              "      <td>2</td>\n",
              "      <td>2</td>\n",
              "      <td>2</td>\n",
              "      <td>2</td>\n",
              "      <td>38</td>\n",
              "      <td>2</td>\n",
              "    </tr>\n",
              "    <tr>\n",
              "      <th>top</th>\n",
              "      <td>ALUMINIO</td>\n",
              "      <td>INOX</td>\n",
              "      <td>REDONDO</td>\n",
              "      <td>TRAMONTINA</td>\n",
              "      <td>YES</td>\n",
              "      <td>NO</td>\n",
              "      <td>NAO</td>\n",
              "      <td>NAO</td>\n",
              "      <td>PANELA</td>\n",
              "      <td>NAO</td>\n",
              "    </tr>\n",
              "    <tr>\n",
              "      <th>freq</th>\n",
              "      <td>137515</td>\n",
              "      <td>44526</td>\n",
              "      <td>170152</td>\n",
              "      <td>73245</td>\n",
              "      <td>150804</td>\n",
              "      <td>175240</td>\n",
              "      <td>154938</td>\n",
              "      <td>160090</td>\n",
              "      <td>62418</td>\n",
              "      <td>144820</td>\n",
              "    </tr>\n",
              "  </tbody>\n",
              "</table>\n",
              "</div>"
            ],
            "text/plain": [
              "       Type_of_product_material   Color  ... Product_Type  Is_Wok\n",
              "count                    180275  180275  ...       180275  180275\n",
              "unique                        5      24  ...           38       2\n",
              "top                    ALUMINIO    INOX  ...       PANELA     NAO\n",
              "freq                     137515   44526  ...        62418  144820\n",
              "\n",
              "[4 rows x 10 columns]"
            ]
          },
          "metadata": {
            "tags": []
          },
          "execution_count": 46
        }
      ]
    },
    {
      "cell_type": "markdown",
      "metadata": {
        "id": "xK6g15tWVLSP",
        "colab_type": "text"
      },
      "source": [
        "In the bottom row, I am using an interpolation method to fill in the null values of numeric attributes: height, width, weight, depth, time_guarantee, price item, session_id. To fill in the null values of the attribute capcity_ (L) we will use the volume equation considering the height, width, and depth of the objects."
      ]
    },
    {
      "cell_type": "code",
      "metadata": {
        "id": "9ERc4pM4OSK8",
        "colab_type": "code",
        "outputId": "6f6e5ad5-a92d-40d4-ff5d-888d2a9c7452",
        "colab": {
          "base_uri": "https://localhost:8080/",
          "height": 417
        }
      },
      "source": [
        "columns_feature_numeric =['Height', 'Width', 'Weight',\n",
        "       'Depth', 'Warranty_Time', 'Price', 'Session_id']\n",
        "data[columns_feature_numeric] = data[columns_feature_numeric].interpolate().dropna()\n",
        "data.dropna(how='any', subset=['Height', 'Width', 'Depth'], inplace = True)\n",
        "\n",
        "print(data.isnull().sum())"
      ],
      "execution_count": 47,
      "outputs": [
        {
          "output_type": "stream",
          "text": [
            "Item_id                          0\n",
            "Height                           0\n",
            "Capacity                    103603\n",
            "Type_of_product_material         0\n",
            "Color                            0\n",
            "Format_Type                      0\n",
            "Width                            0\n",
            "Brand                            0\n",
            "Can_Be_Washed                    0\n",
            "Can_Be_Used_Microwave            0\n",
            "Weight                           0\n",
            "Depth                            0\n",
            "Warranty_Time                    0\n",
            "Has_Iron                         0\n",
            "Has_Grid                         0\n",
            "Has_Lid                          0\n",
            "Product_Type                     0\n",
            "Is_Wok                           0\n",
            "Session_id                       0\n",
            "Price                            0\n",
            "Interested                       0\n",
            "dtype: int64\n"
          ],
          "name": "stdout"
        }
      ]
    },
    {
      "cell_type": "markdown",
      "metadata": {
        "id": "XOmvANhZ_tiw",
        "colab_type": "text"
      },
      "source": [
        "Now let's fill in the null values of the capacity_L attribute. To calculate the capacity in liters of a parallelepiped (rectangular object), let's use the equation = (length * width * height) / 1000 to measure in liters. The same calculation will apply to objects with square shape."
      ]
    },
    {
      "cell_type": "code",
      "metadata": {
        "id": "Al8S4SX5ejxR",
        "colab_type": "code",
        "colab": {}
      },
      "source": [
        "for attribute in ['RETANGULAR', 'QUADRADO']:\n",
        "  filter_data = data[data['Format_Type']== attribute]\n",
        "  # All records whose capacity attribute value is missing will be filtered. \n",
        "  new_filter_data = filter_data[filter_data['Capacity'].isnull()]\n",
        "  volume_l = new_filter_data['Width'].values * new_filter_data['Height'].values * new_filter_data['Depth'].values\n",
        "  #Missing values for the capacity attribute will be filled by calculating the width * height * depth\n",
        "  data.loc[new_filter_data.index.tolist(), ['Capacity']] = volume_l"
      ],
      "execution_count": 0,
      "outputs": []
    },
    {
      "cell_type": "markdown",
      "metadata": {
        "id": "TL6vLxWhJJMo",
        "colab_type": "text"
      },
      "source": [
        "For the volume of a circle-shaped object will apply the equation\n",
        "\n",
        "---\n",
        "\n",
        "V = 4/3 * pi* r^3. Asumindo que r = largura/2.0"
      ]
    },
    {
      "cell_type": "code",
      "metadata": {
        "id": "B12G194ENgn3",
        "colab_type": "code",
        "outputId": "065b2b13-8757-43c0-ec60-ecc53ccef24f",
        "colab": {
          "base_uri": "https://localhost:8080/",
          "height": 417
        }
      },
      "source": [
        "for attribute in ['REDONDO', 'OVAL', 'FRIGIDEIRA']:\n",
        "  filter_data = data[data['Format_Type']== attribute]\n",
        "  new_filter_data = filter_data[filter_data['Capacity'].isnull()]\n",
        "  raio = new_filter_data['Width']/ 2.0\n",
        "  volume_l = [(4/3 * 3.14* i**3)/1000.0 for i in raio.values]\n",
        "  data.loc[new_filter_data.index.tolist(), ['Capacity']] = volume_l\n",
        "\n",
        "print(data.isnull().sum())"
      ],
      "execution_count": 49,
      "outputs": [
        {
          "output_type": "stream",
          "text": [
            "Item_id                     0\n",
            "Height                      0\n",
            "Capacity                    0\n",
            "Type_of_product_material    0\n",
            "Color                       0\n",
            "Format_Type                 0\n",
            "Width                       0\n",
            "Brand                       0\n",
            "Can_Be_Washed               0\n",
            "Can_Be_Used_Microwave       0\n",
            "Weight                      0\n",
            "Depth                       0\n",
            "Warranty_Time               0\n",
            "Has_Iron                    0\n",
            "Has_Grid                    0\n",
            "Has_Lid                     0\n",
            "Product_Type                0\n",
            "Is_Wok                      0\n",
            "Session_id                  0\n",
            "Price                       0\n",
            "Interested                  0\n",
            "dtype: int64\n"
          ],
          "name": "stdout"
        }
      ]
    },
    {
      "cell_type": "markdown",
      "metadata": {
        "id": "zcx-BdEeh2po",
        "colab_type": "text"
      },
      "source": [
        "**Feature Enginering**\n",
        "\n",
        "Since that might interfere with the predictive power of our algorithm. In this step, we will remove attributes that are not needed for the model and will also create variable dummies for categorical variables.\n",
        "\n",
        "To convert categorical text data type into understandable numeric model data, the Label Encoder or One Hot Encoders class can be used. Depending on the data type Label Encoder may present a new problem.\n",
        "\n",
        "Let's split our data set into the train set with (70%) and the test set with (30%) "
      ]
    },
    {
      "cell_type": "code",
      "metadata": {
        "id": "VB7Gy9nBVfoQ",
        "colab_type": "code",
        "colab": {}
      },
      "source": [
        "# In the code below was created a new copy of the dataset, was removed \n",
        "#the target attribute and split the dataset\n",
        "new_data = data.copy()\n",
        "new_data.drop('Interested', axis=1, inplace=True)\n",
        "y_real = data['Interested']\n",
        "train_X,test_X,train_y,test_y=train_test_split(new_data,y_real,test_size=0.30,random_state=200)"
      ],
      "execution_count": 0,
      "outputs": []
    },
    {
      "cell_type": "markdown",
      "metadata": {
        "id": "ni5KcyhGzQkh",
        "colab_type": "text"
      },
      "source": [
        "The Price attribute is a continuous attribute that must be transformed into a categorical attribute. The pd.qcut method allows us to properly identify the data intervals considering the number of cuts requested. This function becomes very useful to avoid unbalanced categories."
      ]
    },
    {
      "cell_type": "code",
      "metadata": {
        "id": "Wg6oCV9z0qUr",
        "colab_type": "code",
        "outputId": "0ab4fa60-32c4-4c2f-cc85-a6d4945ac886",
        "colab": {
          "base_uri": "https://localhost:8080/",
          "height": 381
        }
      },
      "source": [
        "# The qcut function tries to divide up the underlying data into equal sized bins.\n",
        "# The code below apply qcut function to 'ITEM_PRICE' and 'PESO' attributes\n",
        "binned_train_price = pd.qcut(train_X['Price'].values, 3).value_counts()\n",
        "binned_test_price = pd.qcut(test_X['Price'].values, 3).value_counts()\n",
        "binned_train_peso = pd.qcut(train_X['Weight'].values, 5).value_counts()\n",
        "binned_test_peso = pd.qcut(test_X['Weight'].values, 5).value_counts()\n",
        "print('intervals train price',binned_train_price)\n",
        "print('intervals test price',binned_test_price)\n",
        "print('intervals train Weight',binned_train_peso)\n",
        "print('intervals test Weight',binned_test_peso)"
      ],
      "execution_count": 59,
      "outputs": [
        {
          "output_type": "stream",
          "text": [
            "intervals train price (0.549, 90.995]     42064\n",
            "(90.995, 127.9]     42083\n",
            "(127.9, 2274.99]    42044\n",
            "dtype: int64\n",
            "intervals test price (12.344000000000001, 91.436]    18028\n",
            "(91.436, 129.0]                 18283\n",
            "(129.0, 2274.99]                17772\n",
            "dtype: int64\n",
            "intervals train Weight (0.618, 120.0]      33164\n",
            "(120.0, 150.0]      20368\n",
            "(150.0, 172.0]      22217\n",
            "(172.0, 322.5]      25252\n",
            "(322.5, 44400.0]    25190\n",
            "dtype: int64\n",
            "intervals test Weight (0.618, 120.0]      14258\n",
            "(120.0, 150.0]       8504\n",
            "(150.0, 172.5]       9740\n",
            "(172.5, 320.0]      10796\n",
            "(320.0, 44400.0]    10785\n",
            "dtype: int64\n"
          ],
          "name": "stdout"
        }
      ]
    },
    {
      "cell_type": "code",
      "metadata": {
        "id": "pX-8PUtaHu7U",
        "colab_type": "code",
        "outputId": "6d0585e3-d067-472a-822b-d5f5b705eff6",
        "colab": {
          "base_uri": "https://localhost:8080/",
          "height": 272
        }
      },
      "source": [
        "# The code below segment and sort data values into bins.\n",
        "# Was apply this operation to 'PESO' and 'ITEM_PRICE' attribute\n",
        "category_train = pd.cut(train_X['Weight'].values,\n",
        "                     bins=[0, 120.0, 150.0, 172.0,322.5, 44400.0],\n",
        "                     labels=[\"VERY LIGHT\", \"LIGHT\", \"MEDIUM\", \"HEAVY\", \"VERY HEAVY\"])\n",
        "category_test = pd.cut(test_X['Weight'].values,\n",
        "                     bins=[0, 120.0, 150.0, 172.0,322.5, 44400.0],\n",
        "                     labels=[\"VERY LIGHT\", \"LIGHT\", \"MEDIUM\", \"HEAVY\", \"VERY HEAVY\"])\n",
        "\n",
        "train_X.loc[train_X.index, 'Weight_Cat'] =category_train\n",
        "test_X.loc[test_X.index, 'Weight_Cat'] =category_test\n",
        "print(train_X.shape)\n",
        "print(test_X.shape)"
      ],
      "execution_count": 60,
      "outputs": [
        {
          "output_type": "stream",
          "text": [
            "(126191, 21)\n",
            "(54083, 21)\n"
          ],
          "name": "stdout"
        },
        {
          "output_type": "stream",
          "text": [
            "/usr/local/lib/python3.6/dist-packages/pandas/core/indexing.py:376: SettingWithCopyWarning: \n",
            "A value is trying to be set on a copy of a slice from a DataFrame.\n",
            "Try using .loc[row_indexer,col_indexer] = value instead\n",
            "\n",
            "See the caveats in the documentation: http://pandas.pydata.org/pandas-docs/stable/user_guide/indexing.html#returning-a-view-versus-a-copy\n",
            "  self.obj[key] = _infer_fill_value(value)\n",
            "/usr/local/lib/python3.6/dist-packages/pandas/core/indexing.py:494: SettingWithCopyWarning: \n",
            "A value is trying to be set on a copy of a slice from a DataFrame.\n",
            "Try using .loc[row_indexer,col_indexer] = value instead\n",
            "\n",
            "See the caveats in the documentation: http://pandas.pydata.org/pandas-docs/stable/user_guide/indexing.html#returning-a-view-versus-a-copy\n",
            "  self.obj[item] = s\n"
          ],
          "name": "stderr"
        }
      ]
    },
    {
      "cell_type": "markdown",
      "metadata": {
        "id": "vvQAQgZqanOW",
        "colab_type": "text"
      },
      "source": [
        "Now let's create categories for the item_price attribute considering the ranges identified."
      ]
    },
    {
      "cell_type": "code",
      "metadata": {
        "id": "UiONIuE2y-0U",
        "colab_type": "code",
        "outputId": "757393f7-6615-4ce4-c297-7700926f5559",
        "colab": {
          "base_uri": "https://localhost:8080/",
          "height": 272
        }
      },
      "source": [
        "category_train = pd.cut(train_X['Price'].values,\n",
        "                     bins=[0, 90.995, 127.9, 2274.99],\n",
        "                     labels=[\"Low_Price\", \"Regular_Price\", \"High_Price\"])\n",
        "category_test = pd.cut(test_X['Price'].values,\n",
        "                     bins=[0, 91.436, 129.0, 2274.99],\n",
        "                     labels=[\"Low_Price\", \"Regular_Price\", \"High_Price\"])\n",
        "\n",
        "train_X.loc[train_X.index, 'Price_Cat'] =category_train\n",
        "test_X.loc[test_X.index, 'Price_Cat'] =category_test\n",
        "print(train_X.shape)\n",
        "print(test_X.shape)"
      ],
      "execution_count": 61,
      "outputs": [
        {
          "output_type": "stream",
          "text": [
            "(126191, 22)\n",
            "(54083, 22)\n"
          ],
          "name": "stdout"
        },
        {
          "output_type": "stream",
          "text": [
            "/usr/local/lib/python3.6/dist-packages/pandas/core/indexing.py:376: SettingWithCopyWarning: \n",
            "A value is trying to be set on a copy of a slice from a DataFrame.\n",
            "Try using .loc[row_indexer,col_indexer] = value instead\n",
            "\n",
            "See the caveats in the documentation: http://pandas.pydata.org/pandas-docs/stable/user_guide/indexing.html#returning-a-view-versus-a-copy\n",
            "  self.obj[key] = _infer_fill_value(value)\n",
            "/usr/local/lib/python3.6/dist-packages/pandas/core/indexing.py:494: SettingWithCopyWarning: \n",
            "A value is trying to be set on a copy of a slice from a DataFrame.\n",
            "Try using .loc[row_indexer,col_indexer] = value instead\n",
            "\n",
            "See the caveats in the documentation: http://pandas.pydata.org/pandas-docs/stable/user_guide/indexing.html#returning-a-view-versus-a-copy\n",
            "  self.obj[item] = s\n"
          ],
          "name": "stderr"
        }
      ]
    },
    {
      "cell_type": "markdown",
      "metadata": {
        "id": "oATVJ77o8Jxf",
        "colab_type": "text"
      },
      "source": [
        "Due to a large amount of color we have in the products we will apply Label Encoder to the COR attribute for the other attributes we will apply One Hot Encoders."
      ]
    },
    {
      "cell_type": "code",
      "metadata": {
        "id": "xl51GHrTpYCn",
        "colab_type": "code",
        "outputId": "b97b808e-a37d-4613-b83e-daa07ce59a71",
        "colab": {
          "base_uri": "https://localhost:8080/",
          "height": 272
        }
      },
      "source": [
        "# import the LabelEncoder class from the sklearn library\n",
        "from sklearn.preprocessing import LabelEncoder\n",
        "labelencoder = LabelEncoder()\n",
        "#  transform the first column of the data, and then replace the existing \n",
        "#text data with the new encoded data\n",
        "train_X['Color']= labelencoder.fit_transform(train_X['Color']) \n",
        "test_X['Color']= labelencoder.fit_transform(test_X['Color']) \n",
        "print(train_X.shape)\n",
        "print(test_X.shape)"
      ],
      "execution_count": 62,
      "outputs": [
        {
          "output_type": "stream",
          "text": [
            "(126191, 22)\n",
            "(54083, 22)\n"
          ],
          "name": "stdout"
        },
        {
          "output_type": "stream",
          "text": [
            "/usr/local/lib/python3.6/dist-packages/ipykernel_launcher.py:5: SettingWithCopyWarning: \n",
            "A value is trying to be set on a copy of a slice from a DataFrame.\n",
            "Try using .loc[row_indexer,col_indexer] = value instead\n",
            "\n",
            "See the caveats in the documentation: http://pandas.pydata.org/pandas-docs/stable/user_guide/indexing.html#returning-a-view-versus-a-copy\n",
            "  \"\"\"\n",
            "/usr/local/lib/python3.6/dist-packages/ipykernel_launcher.py:6: SettingWithCopyWarning: \n",
            "A value is trying to be set on a copy of a slice from a DataFrame.\n",
            "Try using .loc[row_indexer,col_indexer] = value instead\n",
            "\n",
            "See the caveats in the documentation: http://pandas.pydata.org/pandas-docs/stable/user_guide/indexing.html#returning-a-view-versus-a-copy\n",
            "  \n"
          ],
          "name": "stderr"
        }
      ]
    },
    {
      "cell_type": "markdown",
      "metadata": {
        "id": "LgxJkBlk8U2P",
        "colab_type": "text"
      },
      "source": [
        "We will remove item_id, session_id, and item_price attributes. The item_price attributes are correlated with the ITEM_PRICE_CAT attribute."
      ]
    },
    {
      "cell_type": "code",
      "metadata": {
        "id": "8BBerifk9z28",
        "colab_type": "code",
        "outputId": "0a7b72bc-5390-48c3-a7c1-f2e84b626ce0",
        "colab": {
          "base_uri": "https://localhost:8080/",
          "height": 126
        }
      },
      "source": [
        "columns_drop = ['Item_id','Session_id','Price', 'Weight']\n",
        "for col in columns_drop:\n",
        "  train_X.drop(col, axis=1, inplace=True)\n",
        "  test_X.drop(col, axis=1, inplace=True)\n",
        "\n",
        "print('was removed the columns selected.')"
      ],
      "execution_count": 63,
      "outputs": [
        {
          "output_type": "stream",
          "text": [
            "/usr/local/lib/python3.6/dist-packages/pandas/core/frame.py:4117: SettingWithCopyWarning: \n",
            "A value is trying to be set on a copy of a slice from a DataFrame\n",
            "\n",
            "See the caveats in the documentation: http://pandas.pydata.org/pandas-docs/stable/user_guide/indexing.html#returning-a-view-versus-a-copy\n",
            "  errors=errors,\n"
          ],
          "name": "stderr"
        },
        {
          "output_type": "stream",
          "text": [
            "was removed the columns selected.\n"
          ],
          "name": "stdout"
        }
      ]
    },
    {
      "cell_type": "code",
      "metadata": {
        "id": "nk6lpDrSZO-M",
        "colab_type": "code",
        "outputId": "80406320-1476-40b2-c7b5-e5a78cd75fd4",
        "colab": {
          "base_uri": "https://localhost:8080/",
          "height": 54
        }
      },
      "source": [
        "def dummies_data(df):\n",
        "  categ_feature_name = ['Type_of_product_material', 'Format_Type', 'Brand', 'Can_Be_Washed', \n",
        "                      'Can_Be_Used_Microwave', 'Has_Iron', 'Has_Grid', \n",
        "                      'Product_Type', 'Is_Wok', 'Price_Cat', 'Weight_Cat'] \n",
        "  # was created a empty new dataframe\n",
        "  cat_df=pd.DataFrame()\n",
        "  for col in categ_feature_name:\n",
        "    # pd.get_dummies creates a new dataframe which consists of zeros and ones.\n",
        "    dummy=pd.get_dummies(df[col],prefix=col)\n",
        "    # concatenate dataframe and dummy variable\n",
        "    cat_df=pd.concat([cat_df,dummy],axis=1)\n",
        "  return cat_df\n",
        "    \n",
        "# was applied dummies procedure to the training dataset\n",
        "dummie_train_X = dummies_data(train_X)\n",
        "# was applied dummies procedure to the test dataset\n",
        "dummie_test_X = dummies_data(test_X)\n",
        "numeric_features = train_X.select_dtypes(include=[np.number])\n",
        "columns_selected = numeric_features.columns.tolist()\n",
        "train_X = pd.concat([train_X.loc[:, columns_selected],dummie_train_X], axis = 1)\n",
        "test_X = pd.concat([test_X.loc[:, columns_selected],dummie_test_X], axis = 1)\n",
        "print(train_X.columns.shape)\n",
        "print(test_X.columns.shape)\n"
      ],
      "execution_count": 64,
      "outputs": [
        {
          "output_type": "stream",
          "text": [
            "(108,)\n",
            "(108,)\n"
          ],
          "name": "stdout"
        }
      ]
    },
    {
      "cell_type": "markdown",
      "metadata": {
        "id": "nS8BmO7Tjgxb",
        "colab_type": "text"
      },
      "source": [
        "The code below allows identifying which categorical attributes have a correlation above 0.8. Once identified we will remove them. We can observe that the result is an empty vector. This means that there are no correlated attributes in our training set."
      ]
    },
    {
      "cell_type": "code",
      "metadata": {
        "id": "pY_Heiuadh7B",
        "colab_type": "code",
        "outputId": "d148edda-3deb-4bb4-b2be-686d7177b7c5",
        "colab": {
          "base_uri": "https://localhost:8080/",
          "height": 35
        }
      },
      "source": [
        "correlation_matrix = train_X.corr()\n",
        "correlated_features = []\n",
        "for i in range(len(categ_feature_name)):\n",
        "    for j in range(i):\n",
        "        if abs(correlation_matrix.iloc[i, j]) > 0.8:\n",
        "            colname = correlation_matrix.columns[i]\n",
        "            correlated_features.append(colname)\n",
        "print(correlated_features)"
      ],
      "execution_count": 65,
      "outputs": [
        {
          "output_type": "stream",
          "text": [
            "[]\n"
          ],
          "name": "stdout"
        }
      ]
    },
    {
      "cell_type": "markdown",
      "metadata": {
        "id": "zFLr5qJBmI-K",
        "colab_type": "text"
      },
      "source": [
        "**Feature selection**\n",
        "\n",
        "In this step, we will use the LightGBM algorithm to identify the most relevant categorical attributes, ie those that most impact the model. This step is very important because many attributes can delay training, make a model less interpretable, and most critically, reduce the performance of model generalization in the test suite. When we have irrelevant resources, they drown out the important variables, and as the number of resources increases, the number of data points needed for the model to learn the relationship between data and destination grows exponentially.\n",
        "\n"
      ]
    },
    {
      "cell_type": "markdown",
      "metadata": {
        "id": "xSipmwTIIyAz",
        "colab_type": "text"
      },
      "source": [
        "LightGBM is a boosting algorithm. In this type of algorithm, the weight assigned to an individual classifier depends on the weighted sum of the misclassified points error for that classifier. In gradient boosting it is important to use the learning rate for optimal output. Therefore the learning rate should be low but not too low otherwise the algorithm will take so long to complete the training as it is necessary to increase the numerical trees.\n"
      ]
    },
    {
      "cell_type": "code",
      "metadata": {
        "id": "_raNx6WCavg_",
        "colab_type": "code",
        "outputId": "62a2b12a-ed1b-477e-80b5-3c87aff1783c",
        "colab": {
          "base_uri": "https://localhost:8080/",
          "height": 54
        }
      },
      "source": [
        "\n",
        "model =LGBMClassifier(learning_rate=0.05,n_estimators=250,n_jobs=-1,reg_alpha=0.1,min_split_gain=0.01,verbose=-1)\n",
        "model.fit(train_X,train_y)\n",
        "print('Createing a LGBM classifier on categorical data')\n",
        "print('roc auc score:',roc_auc_score(test_y,model.predict_proba(test_X)[:,1]))"
      ],
      "execution_count": 67,
      "outputs": [
        {
          "output_type": "stream",
          "text": [
            "Createing a LGBM classifier on categorical data\n",
            "roc auc score: 0.611761586003956\n"
          ],
          "name": "stdout"
        }
      ]
    },
    {
      "cell_type": "markdown",
      "metadata": {
        "id": "hlv-yulpA7nU",
        "colab_type": "text"
      },
      "source": [
        "Using the SelectFromModel function and indicating a threshold the function returns a list of the most relevant features. From a total of over 100 features, 46 relevant attributes were found."
      ]
    },
    {
      "cell_type": "code",
      "metadata": {
        "id": "cxPI2UZzFY4J",
        "colab_type": "code",
        "outputId": "6804363b-9c02-42ad-ce5b-2b623f5ead87",
        "colab": {
          "base_uri": "https://localhost:8080/",
          "height": 35
        }
      },
      "source": [
        "# select features using threshold\n",
        "embeded_lgb_selector = SelectFromModel(model, threshold='1.25*median')\n",
        "embeded_lgb_selector.fit(train_X,train_y)\n",
        "embeded_lgb_support = embeded_lgb_selector.get_support()\n",
        "embeded_lgb_feature = train_X.loc[:,embeded_lgb_support].columns.tolist()\n",
        "print(str(len(embeded_lgb_feature)), 'selected features')"
      ],
      "execution_count": 68,
      "outputs": [
        {
          "output_type": "stream",
          "text": [
            "46 selected features\n"
          ],
          "name": "stdout"
        }
      ]
    },
    {
      "cell_type": "markdown",
      "metadata": {
        "id": "RoxUn47OWQkf",
        "colab_type": "text"
      },
      "source": [
        "In the figure below we can see a plot that indicates the relevance of each categorical attribute in the model. As we can see in the chart attributes such as warranty time, product dimensions and low to medium price are the attributes that have the greatest impact on the model. We also note that among the product types the type of product like 'cacerola', 'panela' are also of interest to people.\n"
      ]
    },
    {
      "cell_type": "code",
      "metadata": {
        "id": "ZV60P71MntM_",
        "colab_type": "code",
        "outputId": "9d9ac822-3be5-4302-d660-9e66f5669cdb",
        "colab": {
          "base_uri": "https://localhost:8080/",
          "height": 1000
        }
      },
      "source": [
        "import matplotlib.pyplot as plt\n",
        "feat_importance = pd.DataFrame()\n",
        "feat_importance[\"feature\"] = train_X.columns\n",
        "feat_importance[\"value\"] = model.feature_importances_\n",
        "feat_importance.sort_values(by='value', ascending=False, inplace=True)\n",
        "plt.figure(figsize=(10,20))\n",
        "ax = sns.barplot(y=\"feature\", x=\"value\", data=feat_importance)"
      ],
      "execution_count": 69,
      "outputs": [
        {
          "output_type": "display_data",
          "data": {
            "image/png": "[encoded data removed]",
            "text/plain": [
              "<Figure size 720x1440 with 1 Axes>"
            ]
          },
          "metadata": {
            "tags": []
          }
        }
      ]
    },
    {
      "cell_type": "markdown",
      "metadata": {
        "id": "0Mxa3PyIHkea",
        "colab_type": "text"
      },
      "source": [
        "**Modelling**\n",
        "\n",
        "At this stage of modeling, I decided to use the ensemble-based methods. These algorithms construct a set of classifiers whose decisions are combined into a single decision (weightless votes or average votes) by sorting new data considering the votes of their predictions. Usually, it gets better results than a single classifier. For an ensemble to be good it must be accurate and diverse. An accurate classifier is one that has a better error rate than guessing randomly about new x values and is different if each classifier makes errors that are not correlated with the other classifiers.\n"
      ]
    },
    {
      "cell_type": "markdown",
      "metadata": {
        "id": "ojRsEpOrME3F",
        "colab_type": "text"
      },
      "source": [
        "**Random Forest Classifier**"
      ]
    },
    {
      "cell_type": "markdown",
      "metadata": {
        "id": "40-lDA7dEZKI",
        "colab_type": "text"
      },
      "source": [
        "In order to find the best parameters for our model, we can use the RandomSerach or GridSearch algorithm."
      ]
    },
    {
      "cell_type": "code",
      "metadata": {
        "id": "yjP42Vi5MEI3",
        "colab_type": "code",
        "colab": {}
      },
      "source": [
        "from sklearn.ensemble import RandomForestClassifier\n",
        "RandomForest = RandomForestClassifier()\n",
        "param_model = {\"max_depth\": [5, 10, 15, 20],\n",
        "               \"min_samples_split\": [n for n in range(4, 10)],\n",
        "               'min_samples_leaf': [1, 3, 5, 7],\n",
        "               \"n_estimators\": [n for n in range(50, 100, 200)],\n",
        "               \"criterion\": [\"gini\"]\n",
        "              }"
      ],
      "execution_count": 0,
      "outputs": []
    },
    {
      "cell_type": "markdown",
      "metadata": {
        "id": "XLcZyfrWZBYN",
        "colab_type": "text"
      },
      "source": [
        "**Considering as an accuracy measure we observed that the best score was approximately 91%, but as we have an imbalance in the predicted class we cannot use the accuracy measure as a metric to evaluate the predictive power of our model. In our case the best measure to consider is to find the area under the curve(auc)**"
      ]
    },
    {
      "cell_type": "code",
      "metadata": {
        "id": "DkUpizBEO6fl",
        "colab_type": "code",
        "outputId": "ed800020-5727-42ce-8de2-afbab79b1ccc",
        "colab": {
          "base_uri": "https://localhost:8080/",
          "height": 92
        }
      },
      "source": [
        "\n",
        "rf_model = RandomizedSearchCV(RandomForest, param_model, scoring= \"accuracy\")\n",
        "rf_model.fit(train_X.loc[:, embeded_lgb_feature], train_y)\n",
        "random_forest_best = rf_model.best_estimator_\n",
        "print('best_score:', rf_model.best_score_ )"
      ],
      "execution_count": 73,
      "outputs": [
        {
          "output_type": "stream",
          "text": [
            "/usr/local/lib/python3.6/dist-packages/sklearn/model_selection/_split.py:1978: FutureWarning: The default value of cv will change from 3 to 5 in version 0.22. Specify it explicitly to silence this warning.\n",
            "  warnings.warn(CV_WARNING, FutureWarning)\n"
          ],
          "name": "stderr"
        },
        {
          "output_type": "stream",
          "text": [
            "best_score: 0.9131396058355984\n"
          ],
          "name": "stdout"
        }
      ]
    },
    {
      "cell_type": "markdown",
      "metadata": {
        "id": "J-q2hy_fLJh0",
        "colab_type": "text"
      },
      "source": [
        "We consider as an evaluation measure the area under the curve. This measure is very useful when there is a disproportion between the predicted class. Using the RandomForest algorithm we obtained an AUC of 0.60. The higher the AUC (Area under the curve) value, the better the predictive power of the model."
      ]
    },
    {
      "cell_type": "code",
      "metadata": {
        "id": "e3VZniuIJ3vx",
        "colab_type": "code",
        "outputId": "a0cecad2-0195-4e19-96b4-52142aa6b0d6",
        "colab": {
          "base_uri": "https://localhost:8080/",
          "height": 51
        }
      },
      "source": [
        "auc = roc_auc_score(train_y,rf_model.predict_proba(train_X.loc[:, embeded_lgb_feature])[:,1])\n",
        "print('AUC train data', auc)\n",
        "auc = roc_auc_score(test_y,rf_model.predict_proba(test_X.loc[:, embeded_lgb_feature])[:,1])\n",
        "print('AUC Test data:  ', auc)"
      ],
      "execution_count": 0,
      "outputs": [
        {
          "output_type": "stream",
          "text": [
            "AUC train data 0.7095255161916607\n",
            "AUC Test data:   0.5952554012820166\n"
          ],
          "name": "stdout"
        }
      ]
    },
    {
      "cell_type": "markdown",
      "metadata": {
        "id": "VT6_yWple-PG",
        "colab_type": "text"
      },
      "source": [
        "**Conclusions**\n",
        "\n",
        "As we can see warranty time, product dimensions and low to medium price are the attributes that have the greatest impact on the model. We also note that among the product types the type of product like 'cacerola', 'panela' are also of interest to people.\n",
        "\n",
        "Some of the challenges which I faced in this project are:\n",
        "1. The data set had too many missing values. Many unsupervised learning algorithms don't work well in this kind of scenario. Therefore applying techniques to fill in missing values was necessary.\n",
        "2. Highly imbalanced dataset. \n"
      ]
    }
  ]
}